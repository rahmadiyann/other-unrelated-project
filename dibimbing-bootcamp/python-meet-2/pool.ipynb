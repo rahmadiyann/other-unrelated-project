{
 "cells": [
  {
   "cell_type": "code",
   "execution_count": null,
   "metadata": {},
   "outputs": [],
   "source": [
    "import multiprocessing\n",
    "import os\n",
    "\n",
    "def worker(task):\n",
    "    print(f\"Process ID: {os.getpid()} working on task: {task}\")\n",
    "    return f\"Task {task} completed by process {os.getpid()}\"\n",
    "\n",
    "def main():\n",
    "    tasks = [1, 2, 3, 4, 5]\n",
    "    with multiprocessing.Pool(processes=3) as pool:\n",
    "        results = pool.map(worker, tasks)\n",
    "    for result in results:\n",
    "        print(result)\n",
    "\n",
    "if __name__ == \"__main__\":\n",
    "    main()"
   ]
  }
 ],
 "metadata": {
  "kernelspec": {
   "display_name": "venv",
   "language": "python",
   "name": "python3"
  },
  "language_info": {
   "codemirror_mode": {
    "name": "ipython",
    "version": 3
   },
   "file_extension": ".py",
   "mimetype": "text/x-python",
   "name": "python",
   "nbconvert_exporter": "python",
   "pygments_lexer": "ipython3",
   "version": "3.12.5"
  }
 },
 "nbformat": 4,
 "nbformat_minor": 2
}
